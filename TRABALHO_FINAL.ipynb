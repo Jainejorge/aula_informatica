{
  "nbformat": 4,
  "nbformat_minor": 0,
  "metadata": {
    "colab": {
      "name": "TRABALHO FINAL.ipynb",
      "provenance": [],
      "collapsed_sections": [],
      "authorship_tag": "ABX9TyO1OBDFXHLap3TaGit+asi9",
      "include_colab_link": true
    },
    "kernelspec": {
      "name": "python3",
      "display_name": "Python 3"
    },
    "language_info": {
      "name": "python"
    }
  },
  "cells": [
    {
      "cell_type": "markdown",
      "metadata": {
        "id": "view-in-github",
        "colab_type": "text"
      },
      "source": [
        "<a href=\"https://colab.research.google.com/github/Jainejorge/aula_informatica/blob/main/TRABALHO_FINAL.ipynb\" target=\"_parent\"><img src=\"https://colab.research.google.com/assets/colab-badge.svg\" alt=\"Open In Colab\"/></a>"
      ]
    },
    {
      "cell_type": "markdown",
      "metadata": {
        "id": "3mmFzuJXXtue"
      },
      "source": [
        "Trabalho JAÍNE BUCHWEITZ JORGE"
      ]
    },
    {
      "cell_type": "markdown",
      "metadata": {
        "id": "9cHQnhGtnz2G"
      },
      "source": [
        ""
      ]
    },
    {
      "cell_type": "code",
      "metadata": {
        "id": "RxHLSNfXsMHx"
      },
      "source": [
        ""
      ],
      "execution_count": null,
      "outputs": []
    },
    {
      "cell_type": "code",
      "metadata": {
        "id": "29H1B-zCXszC"
      },
      "source": [
        "Passos:\n",
        "\n",
        "1.  PRODUTOS CADASTRADOS / \n",
        "  1.1GRAVAR PREÇO E PRODUTO\n",
        "2.CADASTRAR NOVOS CLIENTES VARIOS \n",
        "  1.VERIFICAR SE NÃO EXITE CLIENTE COM O MESMO NOME\n",
        "  2.VERIFICAR O CPF ---> ESQUEMA \n",
        "  3.SENHA DE 6 DIDITOS\n",
        "  3.3CONFERIR SE A SENHA TEM 6 DIGITOS\n",
        "  4.EMAIL\n",
        "3.LIMITE 1,000\n",
        "CARRINHO\n",
        "PRODUTOS\n",
        "PESSOA\n",
        "CARRINHO PRODUTO E QUNATIDADE\n",
        "\n"
      ],
      "execution_count": null,
      "outputs": []
    },
    {
      "cell_type": "code",
      "metadata": {
        "id": "vACjfuKDZOp5"
      },
      "source": [
        "lista = []\n",
        "listaProduto = []\n",
        "listaCliente = []\n",
        "listaCarrinho = []\n",
        "def iniciaProduto():\n",
        "  item = type('',(object,),{'Produto': \"Feijão 1kg\",'Preço':4.00})()\n",
        "  listaProduto.append(item)\n",
        "  item = type('',(object,),{'Produto': \"Arroz 1kg\",'Preço':7.00})()\n",
        "  listaProduto.append(item)\n",
        "  item = type('',(object,),{'Produto': \"Coca-cola 2l\",'Preço':7.00})()\n",
        "  listaProduto.append(item)\n",
        "  item = type('',(object,),{'Produto': \"Açúcar 1kg\",'Preço':2.00})()\n",
        "  listaProduto.append(item)\n",
        "  item = type('',(object,),{'Produto': \"Feijão 1kg\",'Preço':9.50})()\n",
        "  listaProduto.append(item)\n",
        "  item = type('',(object,),{'Produto': \"Massa 1kg\",'Preço':10.50})()\n",
        "  listaProduto.append(item)\n",
        "  item = type('',(object,),{'Produto': \"Adoçante\",'Preço':6.49})()\n",
        "  listaProduto.append(item)\n",
        "  item = type('',(object,),{'Produto': \"Banana kg\",'Preço':7.50})()\n",
        "  listaProduto.append(item)\n",
        "  item = type('',(object,),{'Produto': \"Chocolate 90g\",'Preço':5.40})()\n",
        "  listaProduto.append(item)\n",
        "  item = type('',(object,),{'Produto': \"Pasta de dente\",'Preço':4.80})()\n",
        "  listaProduto.append(item)\n",
        "  item = type('',(object,),{'Produto': \"Acetona\",'Preço':4.99})()\n",
        "  listaProduto.append(item)\n",
        "  item = type('',(object,),{'Produto': \"Algodão\",'Preço':6.70})()\n",
        "  listaProduto.append(item)\n",
        "  item= type('',(object,),{'Produto': \"Caneta\", 'Preço': 5.80})()\n",
        "  listaProduto.append(item) \n",
        "  item = type('',(object,),{'Produto': \"Caderno\",'Preço':25.99})()\n",
        "  listaProduto.append(item)\n",
        "  item = type('',(object,),{'Produto': \"Tesoura\",'Preço':8.00})()\n",
        "  listaProduto.append(item)\n",
        "  item = type('',(object,),{'Produto': \"Agenda 2021\",'Preço':32.90})()\n",
        "  listaProduto.append(item)\n",
        "  item = type('',(object,),{'Produto': \"Post-it\",'Preço':5.00})()\n",
        "  listaProduto.append(item)\n",
        "  item = type('',(object,),{'Produto': \"Lapis\",'Preço':2.00})()\n",
        "  listaProduto.append(item)\n",
        "  item = type('',(object,),{'Produto': \"Borracha\",'Preço':2.90})()\n",
        "  listaProduto.append(item)\n",
        "  item = type('',(object,),{'Produto': \"Fichario\",'Preço':82.00})()\n",
        "  listaProduto.append(item)\n",
        "\n",
        "def imprimirProduto():\n",
        "  for i in range(0, len(listaProduto)):\n",
        "    print(f\"Produto {listaProduto[i].Produto} - R$ {listaProduto[i].Preço:.2f} Código: {i+1}\")\n",
        "\n",
        "def cadastraCliente():\n",
        "  nome = input(\"Digite o nome completo:\")\n",
        "  cpf = input(\"Digite o número do CPF:\")\n",
        "  email =input(\"Digite o e-mail: \")\n",
        "  senha= input(\"Insira uma senha de 6 dígitos: \")\n",
        "  item = type('',(object,),{'nome':nome,'cpf':cpf,'email':email,'senha':senha })()\n",
        "  listaCliente.append(item)\n",
        "\n",
        "def imprimeCliente():\n",
        "  for i in range(0,len(listaCliente)):\n",
        "    print(f\"nome: {listaCliente[i].nome} CPF: {listaCliente[i].cpf} Email: {listaCliente[i].email} Senha: {listaCliente[i].senha}\")\n",
        "\n",
        "def adicionarProduto():\n",
        "  print(\"Adicionar produtos: \")\n",
        "  imprimirProduto()\n",
        "  codigo=int(input(\"Digite o código do produto que deseja comprar. \"))\n",
        "  quantidade=float(input(\"Qual a quantidade que deseja comprar? \"))\n",
        "  item= type('', (object,),{'codigo': codigo-1,'quantidade': quantidade})()\n",
        "  listaCarrinho.append(item)\n",
        "\n",
        "# def imprimirCarrinho():\n",
        "#   for i in range(0,len(listaCarrinho)):\n",
        "#     posicao= {listaCarrinho[i]\n",
        "#     produto=\n",
        "\n",
        "#     print(f\"nome: {listaCliente[i].nome} CPF: {listaCliente[i].cpf} Email: {listaCliente[i].email} Senha: {listaCliente[i].senha}\")\n",
        "\n",
        "iniciaProduto()\n",
        "imprimirProduto()\n",
        "cadastraCliente()\n",
        "imprimeCliente()"
      ],
      "execution_count": null,
      "outputs": []
    }
  ]
}